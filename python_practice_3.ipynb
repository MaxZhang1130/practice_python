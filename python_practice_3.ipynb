{
 "cells": [
  {
   "cell_type": "code",
   "execution_count": 1,
   "metadata": {},
   "outputs": [],
   "source": [
    "#1. Create the compute_monthly_interest function to return the monthly interest on a balance\n",
    "# at a give annual interest rate:\n",
    "def compute_monthly_interest(balance,annual_interest):\n",
    "    '''\n",
    "    Compute the monthly interest, based on a\n",
    "    balance and an annual interest rate\n",
    "    \n",
    "    Arguments:\n",
    "    balance: The balance of an account.\n",
    "    annual_interest: The annual interest rate as a percent (e.g. 29.99)\n",
    "    \n",
    "    Returns:\n",
    "    interest: The amount of monthly interest owed on the\n",
    "        balance, based on the annual interest rate\n",
    "    '''\n",
    "    \n",
    "    interest = balance*annual_interest/100.0/12.0\n",
    "    return interest"
   ]
  },
  {
   "cell_type": "code",
   "execution_count": 2,
   "metadata": {},
   "outputs": [
    {
     "data": {
      "text/plain": [
       "241.66666666666666"
      ]
     },
     "execution_count": 2,
     "metadata": {},
     "output_type": "execute_result"
    }
   ],
   "source": [
    "compute_monthly_interest(10000,29)"
   ]
  },
  {
   "cell_type": "code",
   "execution_count": 3,
   "metadata": {},
   "outputs": [],
   "source": [
    "#2. Create the create_lambda function to return a lambda function that accepts a slope, intercept, \n",
    "# and x-value (in that order), and computes the corresponding y-value for a line:\n",
    "def create_lambda():\n",
    "    '''\n",
    "    Return a lambda function that takes in a\n",
    "    slope, intercept, and x-value (in that order),\n",
    "    and computes the corresponding y-value for the line.\n",
    "    \n",
    "    Arguments:\n",
    "    None\n",
    "    \n",
    "    Returns:\n",
    "    lambda_line_compute: the lambda.\n",
    "    \n",
    "    Note:\n",
    "    You can access this function using create_lambda()(slope,intercept,xval)\n",
    "    '''\n",
    "    return lambda slope, intercept, xval : slope*xval + intercept"
   ]
  },
  {
   "cell_type": "code",
   "execution_count": 4,
   "metadata": {},
   "outputs": [
    {
     "data": {
      "text/plain": [
       "208"
      ]
     },
     "execution_count": 4,
     "metadata": {},
     "output_type": "execute_result"
    }
   ],
   "source": [
    "create_lambda()(2,8,100)"
   ]
  },
  {
   "cell_type": "code",
   "execution_count": 1,
   "metadata": {},
   "outputs": [],
   "source": [
    "#3. Edit the compute_avg_length function to return the average length of the dimensions of an input array.\n",
    "def compute_avg_length(input_array):\n",
    "    '''\n",
    "    For any given numpy array, compute the average number\n",
    "    of elements along each axis. For example, if a 2D array\n",
    "    has a shape of (12,4), then the average number of elements\n",
    "    would be 8. If a 3D array has a shape of (12,4,14), then the\n",
    "    average number of elements would be 10.\n",
    "    Arguments:\n",
    "    input_array: The numpy array to get the average number of\n",
    "        elements of.\n",
    "    Returns:\n",
    "    avg_length: The average number of elements along each axis.\n",
    "    '''\n",
    "    return (sum(input_array.shape)/input_array.ndim)"
   ]
  },
  {
   "cell_type": "code",
   "execution_count": 20,
   "metadata": {},
   "outputs": [
    {
     "data": {
      "text/plain": [
       "20.0"
      ]
     },
     "execution_count": 20,
     "metadata": {},
     "output_type": "execute_result"
    }
   ],
   "source": [
    "compute_avg_length(np.arange(20))"
   ]
  }
 ],
 "metadata": {
  "kernelspec": {
   "display_name": "Python 3",
   "language": "python",
   "name": "python3"
  },
  "language_info": {
   "codemirror_mode": {
    "name": "ipython",
    "version": 3
   },
   "file_extension": ".py",
   "mimetype": "text/x-python",
   "name": "python",
   "nbconvert_exporter": "python",
   "pygments_lexer": "ipython3",
   "version": "3.8.8"
  }
 },
 "nbformat": 4,
 "nbformat_minor": 2
}
